{
 "cells": [
  {
   "cell_type": "markdown",
   "metadata": {},
   "source": [
    "# Project 1 Cancer Data in Maryland"
   ]
  },
  {
   "cell_type": "code",
   "execution_count": 1,
   "metadata": {},
   "outputs": [],
   "source": [
    "import pandas as pd\n",
    "import numpy as np"
   ]
  },
  {
   "cell_type": "code",
   "execution_count": 2,
   "metadata": {},
   "outputs": [],
   "source": [
    "# Load the csv file as the starting point\n",
    "location = \"Maryland/By_Number/Maryland_Cancer_Deaths_TopTen_by_Number.csv\""
   ]
  },
  {
   "cell_type": "code",
   "execution_count": 8,
   "metadata": {},
   "outputs": [],
   "source": [
    "# Read the csv file and save it as a dataframe\n",
    "df = pd.read_csv(location)"
   ]
  },
  {
   "cell_type": "code",
   "execution_count": 9,
   "metadata": {},
   "outputs": [
    {
     "data": {
      "text/html": [
       "<div>\n",
       "<style scoped>\n",
       "    .dataframe tbody tr th:only-of-type {\n",
       "        vertical-align: middle;\n",
       "    }\n",
       "\n",
       "    .dataframe tbody tr th {\n",
       "        vertical-align: top;\n",
       "    }\n",
       "\n",
       "    .dataframe thead th {\n",
       "        text-align: right;\n",
       "    }\n",
       "</style>\n",
       "<table border=\"1\" class=\"dataframe\">\n",
       "  <thead>\n",
       "    <tr style=\"text-align: right;\">\n",
       "      <th></th>\n",
       "      <th>Area</th>\n",
       "      <th>CancerType</th>\n",
       "      <th>Year</th>\n",
       "      <th>Sex</th>\n",
       "      <th>AgeAdjustedRate</th>\n",
       "      <th>CaseCount</th>\n",
       "      <th>Population</th>\n",
       "    </tr>\n",
       "  </thead>\n",
       "  <tbody>\n",
       "    <tr>\n",
       "      <th>0</th>\n",
       "      <td>Maryland</td>\n",
       "      <td>Lung and Bronchus</td>\n",
       "      <td>2016</td>\n",
       "      <td>Male and Female</td>\n",
       "      <td>37.7</td>\n",
       "      <td>2639</td>\n",
       "      <td>6024752</td>\n",
       "    </tr>\n",
       "    <tr>\n",
       "      <th>1</th>\n",
       "      <td>Maryland</td>\n",
       "      <td>Female Breast</td>\n",
       "      <td>2016</td>\n",
       "      <td>Male and Female</td>\n",
       "      <td>21.3</td>\n",
       "      <td>829</td>\n",
       "      <td>3104357</td>\n",
       "    </tr>\n",
       "    <tr>\n",
       "      <th>2</th>\n",
       "      <td>Maryland</td>\n",
       "      <td>Prostate</td>\n",
       "      <td>2016</td>\n",
       "      <td>Male and Female</td>\n",
       "      <td>20.7</td>\n",
       "      <td>558</td>\n",
       "      <td>2920395</td>\n",
       "    </tr>\n",
       "    <tr>\n",
       "      <th>3</th>\n",
       "      <td>Maryland</td>\n",
       "      <td>Colon and Rectum</td>\n",
       "      <td>2016</td>\n",
       "      <td>Male and Female</td>\n",
       "      <td>13.7</td>\n",
       "      <td>949</td>\n",
       "      <td>6024752</td>\n",
       "    </tr>\n",
       "    <tr>\n",
       "      <th>4</th>\n",
       "      <td>Maryland</td>\n",
       "      <td>Pancreas</td>\n",
       "      <td>2016</td>\n",
       "      <td>Male and Female</td>\n",
       "      <td>11.2</td>\n",
       "      <td>783</td>\n",
       "      <td>6024752</td>\n",
       "    </tr>\n",
       "  </tbody>\n",
       "</table>\n",
       "</div>"
      ],
      "text/plain": [
       "       Area         CancerType  Year              Sex  AgeAdjustedRate  \\\n",
       "0  Maryland  Lung and Bronchus  2016  Male and Female             37.7   \n",
       "1  Maryland      Female Breast  2016  Male and Female             21.3   \n",
       "2  Maryland           Prostate  2016  Male and Female             20.7   \n",
       "3  Maryland   Colon and Rectum  2016  Male and Female             13.7   \n",
       "4  Maryland           Pancreas  2016  Male and Female             11.2   \n",
       "\n",
       "   CaseCount  Population  \n",
       "0       2639     6024752  \n",
       "1        829     3104357  \n",
       "2        558     2920395  \n",
       "3        949     6024752  \n",
       "4        783     6024752  "
      ]
     },
     "execution_count": 9,
     "metadata": {},
     "output_type": "execute_result"
    }
   ],
   "source": [
    "# Look at the beginning of the file\n",
    "df.head()"
   ]
  },
  {
   "cell_type": "code",
   "execution_count": 10,
   "metadata": {},
   "outputs": [
    {
     "data": {
      "text/plain": [
       "Area               10\n",
       "CancerType         10\n",
       "Year               10\n",
       "Sex                10\n",
       "AgeAdjustedRate    10\n",
       "CaseCount          10\n",
       "Population         10\n",
       "dtype: int64"
      ]
     },
     "execution_count": 10,
     "metadata": {},
     "output_type": "execute_result"
    }
   ],
   "source": [
    "# Count the number of rows in the file for each column with data\n",
    "df.count()"
   ]
  },
  {
   "cell_type": "code",
   "execution_count": 11,
   "metadata": {},
   "outputs": [
    {
     "data": {
      "text/html": [
       "<div>\n",
       "<style scoped>\n",
       "    .dataframe tbody tr th:only-of-type {\n",
       "        vertical-align: middle;\n",
       "    }\n",
       "\n",
       "    .dataframe tbody tr th {\n",
       "        vertical-align: top;\n",
       "    }\n",
       "\n",
       "    .dataframe thead th {\n",
       "        text-align: right;\n",
       "    }\n",
       "</style>\n",
       "<table border=\"1\" class=\"dataframe\">\n",
       "  <thead>\n",
       "    <tr style=\"text-align: right;\">\n",
       "      <th></th>\n",
       "      <th>Area</th>\n",
       "      <th>CancerType</th>\n",
       "      <th>Year</th>\n",
       "      <th>Sex</th>\n",
       "      <th>AgeAdjustedRate</th>\n",
       "      <th>CaseCount</th>\n",
       "      <th>Population</th>\n",
       "    </tr>\n",
       "  </thead>\n",
       "  <tbody>\n",
       "    <tr>\n",
       "      <th>5</th>\n",
       "      <td>Maryland</td>\n",
       "      <td>Ovary</td>\n",
       "      <td>2016</td>\n",
       "      <td>Male and Female</td>\n",
       "      <td>6.8</td>\n",
       "      <td>274</td>\n",
       "      <td>3104357</td>\n",
       "    </tr>\n",
       "    <tr>\n",
       "      <th>6</th>\n",
       "      <td>Maryland</td>\n",
       "      <td>Liver and Intrahepatic Bile Duct</td>\n",
       "      <td>2016</td>\n",
       "      <td>Male and Female</td>\n",
       "      <td>6.0</td>\n",
       "      <td>451</td>\n",
       "      <td>6024752</td>\n",
       "    </tr>\n",
       "    <tr>\n",
       "      <th>7</th>\n",
       "      <td>Maryland</td>\n",
       "      <td>Corpus and Uterus NOS</td>\n",
       "      <td>2016</td>\n",
       "      <td>Male and Female</td>\n",
       "      <td>5.9</td>\n",
       "      <td>237</td>\n",
       "      <td>3104357</td>\n",
       "    </tr>\n",
       "    <tr>\n",
       "      <th>8</th>\n",
       "      <td>Maryland</td>\n",
       "      <td>Leukemias</td>\n",
       "      <td>2016</td>\n",
       "      <td>Male and Female</td>\n",
       "      <td>5.9</td>\n",
       "      <td>397</td>\n",
       "      <td>6024752</td>\n",
       "    </tr>\n",
       "    <tr>\n",
       "      <th>9</th>\n",
       "      <td>Maryland</td>\n",
       "      <td>Non-Hodgkin Lymphoma</td>\n",
       "      <td>2016</td>\n",
       "      <td>Male and Female</td>\n",
       "      <td>5.0</td>\n",
       "      <td>332</td>\n",
       "      <td>6024752</td>\n",
       "    </tr>\n",
       "  </tbody>\n",
       "</table>\n",
       "</div>"
      ],
      "text/plain": [
       "       Area                        CancerType  Year              Sex  \\\n",
       "5  Maryland                             Ovary  2016  Male and Female   \n",
       "6  Maryland  Liver and Intrahepatic Bile Duct  2016  Male and Female   \n",
       "7  Maryland             Corpus and Uterus NOS  2016  Male and Female   \n",
       "8  Maryland                         Leukemias  2016  Male and Female   \n",
       "9  Maryland              Non-Hodgkin Lymphoma  2016  Male and Female   \n",
       "\n",
       "   AgeAdjustedRate  CaseCount  Population  \n",
       "5              6.8        274     3104357  \n",
       "6              6.0        451     6024752  \n",
       "7              5.9        237     3104357  \n",
       "8              5.9        397     6024752  \n",
       "9              5.0        332     6024752  "
      ]
     },
     "execution_count": 11,
     "metadata": {},
     "output_type": "execute_result"
    }
   ],
   "source": [
    "# Look at the end of the file\n",
    "df.tail()"
   ]
  },
  {
   "cell_type": "code",
   "execution_count": 12,
   "metadata": {},
   "outputs": [
    {
     "name": "stdout",
     "output_type": "stream",
     "text": [
      "['Area' 'CancerType' 'Year' 'Sex' 'AgeAdjustedRate' 'CaseCount'\n",
      " 'Population']\n"
     ]
    },
    {
     "data": {
      "text/plain": [
       "7"
      ]
     },
     "execution_count": 12,
     "metadata": {},
     "output_type": "execute_result"
    }
   ],
   "source": [
    "# Print out the colum headers\n",
    "print(df.columns.values)\n",
    "len(df.columns)"
   ]
  },
  {
   "cell_type": "code",
   "execution_count": 13,
   "metadata": {},
   "outputs": [
    {
     "data": {
      "text/plain": [
       "Area                object\n",
       "CancerType          object\n",
       "Year                 int64\n",
       "Sex                 object\n",
       "AgeAdjustedRate    float64\n",
       "CaseCount            int64\n",
       "Population           int64\n",
       "dtype: object"
      ]
     },
     "execution_count": 13,
     "metadata": {},
     "output_type": "execute_result"
    }
   ],
   "source": [
    "# Print the data types of each column\n",
    "df.dtypes"
   ]
  }
 ],
 "metadata": {
  "kernelspec": {
   "display_name": "Python 3",
   "language": "python",
   "name": "python3"
  },
  "language_info": {
   "codemirror_mode": {
    "name": "ipython",
    "version": 3
   },
   "file_extension": ".py",
   "mimetype": "text/x-python",
   "name": "python",
   "nbconvert_exporter": "python",
   "pygments_lexer": "ipython3",
   "version": "3.7.3"
  }
 },
 "nbformat": 4,
 "nbformat_minor": 2
}
